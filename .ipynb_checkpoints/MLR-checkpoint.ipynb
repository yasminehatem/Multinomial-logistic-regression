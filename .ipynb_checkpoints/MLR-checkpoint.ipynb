{
 "cells": [
  {
   "cell_type": "code",
   "execution_count": 223,
   "metadata": {},
   "outputs": [],
   "source": [
    "import numpy as np\n",
    "import matplotlib.pyplot as plt\n",
    "from mpl_toolkits.mplot3d import Axes3D\n",
    "import matplotlib.pyplot as plt\n",
    "\n",
    "import csv\n",
    "import math\n",
    "import collections\n",
    "import pandas as pd\n",
    "\n",
    "from scipy.optimize import minimize\n",
    "import sklearn\n",
    "\n",
    "from sklearn.model_selection import train_test_split\n"
   ]
  },
  {
   "cell_type": "code",
   "execution_count": 224,
   "metadata": {},
   "outputs": [],
   "source": [
    "def softmax(x):\n",
    "    if x.ndim==1:\n",
    "               #print(\"1D data case\")\n",
    "               \n",
    "            return np.exp(x)/ np.sum(np.exp(x))\n",
    "    else:\n",
    "        #print(\"ND data case\")\n",
    "        \n",
    "        #print(\"x dim\",x.shape)\n",
    "        #print(\"x\",x)\n",
    "        #print(\"result\",np.exp(x)/ np.sum(np.exp(x) , axis=1).reshape(-1,1))\n",
    "        return np.exp(x)/ np.sum(np.exp(x) , axis=1).reshape(-1,1)\n",
    "#print(softmax([2, 3, 5, 6]))"
   ]
  },
  {
   "cell_type": "code",
   "execution_count": 225,
   "metadata": {},
   "outputs": [],
   "source": [
    "#this function works when class are mapped to integers starting from class 1\n",
    "def one_hot_encoding(y):\n",
    "    y_unique=list(np.unique(y))\n",
    "      \n",
    "    #print(y_unique)\n",
    "    encoding=np.zeros((len(y),len(y_unique)))\n",
    "    #print(encoding)\n",
    "    \n",
    "    for i in range(len(y)):\n",
    "        encoding[i][int(y[i]-1)]=1\n",
    "    return encoding\n",
    "    \n",
    "    "
   ]
  },
  {
   "cell_type": "code",
   "execution_count": 226,
   "metadata": {},
   "outputs": [],
   "source": [
    "def get_softmax(x,weights,y_unique):\n",
    "        predicts = np.dot(x, weights.T).reshape(-1,len(y_unique))\n",
    "        \n",
    "        return softmax(predicts)\n"
   ]
  },
  {
   "cell_type": "code",
   "execution_count": 227,
   "metadata": {},
   "outputs": [],
   "source": [
    "#this function works when class are mapped to integers starting from class 1\n",
    "\n",
    "def predict(x,weights,y_unique):\n",
    "    probs = get_softmax(x,weights,y_unique)\n",
    "    \n",
    "    #print(probs)\n",
    "    \n",
    "    #print(np.argmax(probs, axis=1)+1)\n",
    "    #print(np.sum(probs_, axis = 1)) =1 softmax probability space\n",
    "  \n",
    "    \n",
    "    return np.argmax(probs, axis=1)+1\n",
    "  "
   ]
  },
  {
   "cell_type": "code",
   "execution_count": 228,
   "metadata": {},
   "outputs": [],
   "source": [
    "def cross_entropy(probs,y):\n",
    "        \n",
    "        return -1 * (np.mean( np.log(probs)*y))"
   ]
  },
  {
   "cell_type": "code",
   "execution_count": 260,
   "metadata": {},
   "outputs": [],
   "source": [
    "def MLR_fit(x,y,n,alpha):\n",
    "    y_unique=np.unique(y)\n",
    " \n",
    "\n",
    "    #print(\"weghts in train \",weights)\n",
    "    encoding=one_hot_encoding(y)\n",
    "    \n",
    "    \n",
    "    #print(\"encoding shape \" , encoding.shape)\n",
    "    losses=[]\n",
    "    weights=np.zeros((len(y_unique),x.shape[1]))\n",
    "\n",
    "    for i in range(n):\n",
    "            losses.append(cross_entropy(get_softmax(x,weights,y_unique),encoding ))\n",
    "            z = np.random.choice(x.shape[0],30)\n",
    "            X_gp= x[z]\n",
    "            y_gp= encoding[z]\n",
    "            error = y_gp - get_softmax(X_gp,weights,y_unique)\n",
    "            new_weights = np.dot(error.T, X_gp)*alpha\n",
    "            weights += new_weights\n",
    "            \n",
    "            \n",
    "            #print(\"iterations\", i)\n",
    "            #print(\"weights are\", weights)\n",
    "            #print(\"weghits shape\", weights.shape)\n",
    "    return weights , losses\n",
    "        \n",
    "    \n",
    "    \n",
    "    \n",
    "    \n",
    "    "
   ]
  },
  {
   "cell_type": "code",
   "execution_count": 243,
   "metadata": {},
   "outputs": [],
   "source": [
    "def data_read_preproc(data_string):\n",
    "    data = pd.read_csv(data_string)\n",
    "    ###-adding bias column-###\n",
    "    data.insert(0,'ones',1)\n",
    "    ###-rename the output-###\n",
    "    data.rename(columns={'Label to be entered by an exper physician Yes/NO':'output',\n",
    "                              }, \n",
    "                     inplace=True)\n",
    "    ###-map classes to integer-###\n",
    "    data[\"output\"].replace({\"YES\":1, \"NO\":2 ,\"MDT\":3}, inplace=True)\n",
    "    \"\"\"\n",
    "\n",
    "    data.loc[(data['Age'] >= 25) & (data['Age'] < 40), 'Age'] = 1\n",
    "    data.loc[(data['Age'] >= 40) & (data['Age'] < 60), 'Age'] = 2\n",
    "    data.loc[(data['Age'] >=60), 'Age'] = 3\n",
    "\n",
    "\n",
    "    data.loc[(data['BMI'] <18.5), 'BMI'] = 1\n",
    "    data.loc[(data['BMI'] >=18.5) & (data['BMI'] < 25 ),'BMI'] = 2\n",
    "    data.loc[(data['BMI'] >=25) & (data['BMI'] < 30), 'BMI'] = 3\n",
    "    data.loc[(data['BMI'] >=30) , 'BMI'] = 4\"\"\"\n",
    "\n",
    "\n",
    "    #print(data.head())\n",
    "    data = np.array(data)\n",
    "    return data"
   ]
  },
  {
   "cell_type": "code",
   "execution_count": 244,
   "metadata": {
    "scrolled": true
   },
   "outputs": [],
   "source": [
    "#----------reading data and preprocessing-----------#\n",
    "\n",
    "#np.take(data,np.random.permutation(data.shape[0]),axis=0,out=data)\n",
    "data=data_read_preproc(\"data.csv\")\n",
    "x=data[:,:45]\n",
    "y=data[:,45]\n",
    "#print(x.shape)\n",
    "#print(y.shape)\n",
    "\n",
    "y_unique=np.unique(y)\n",
    "X_train, X_test, y_train, y_test = train_test_split(x, y, test_size=0.2,shuffle=True)\n",
    "#print(y_test.shape)\n",
    "\n"
   ]
  },
  {
   "cell_type": "code",
   "execution_count": 261,
   "metadata": {
    "scrolled": true
   },
   "outputs": [
    {
     "name": "stdout",
     "output_type": "stream",
     "text": [
      "Accuracy of training set =  95.07299270072993 %\n",
      "Accuracy of testing set =  93.47826086956522 %\n"
     ]
    }
   ],
   "source": [
    "#------------training and results------------#\n",
    "n=100000 #number of iterations\n",
    "alpha=0.0001  #learning rate\n",
    "w,losses=MLR_fit(X_train,y_train,n,alpha)\n",
    "pred_train=predict(X_train,w,y_unique)\n",
    "pred_test=predict(X_test,w,y_unique)\n",
    "print(\"Accuracy of training set = \", np.mean(pred_train==y_train)*100 ,\"%\")\n",
    "print(\"Accuracy of testing set = \", np.mean(pred_test==y_test)*100,\"%\")"
   ]
  },
  {
   "cell_type": "code",
   "execution_count": 262,
   "metadata": {},
   "outputs": [
    {
     "name": "stdout",
     "output_type": "stream",
     "text": [
      "Counter({1.0: 88, 2.0: 41, 3.0: 9})\n",
      "Counter({1: 90, 2: 41, 3: 7})\n"
     ]
    },
    {
     "data": {
      "image/png": "[encoded data removed]",
      "text/plain": [
       "<Figure size 432x288 with 1 Axes>"
      ]
     },
     "metadata": {},
     "output_type": "display_data"
    },
    {
     "data": {
      "image/png": "[encoded data removed]",
      "text/plain": [
       "<Figure size 432x288 with 1 Axes>"
      ]
     },
     "metadata": {},
     "output_type": "display_data"
    }
   ],
   "source": [
    "#--------------results evaluation on test set--------------#\n",
    "\n",
    "#--count the occurence of every class in y predicted and y_test--#\n",
    "print(collections.Counter(y_test))\n",
    "print(collections.Counter(pred_test))\n",
    "\n",
    "def plot_pie_chart(title,perc_1,perc_2,perc_3):\n",
    "\n",
    "    plt.title(title, fontdict=None, loc='center')\n",
    "    labels = 'YES', 'NO', 'MDT'\n",
    "    sizes = [perc_1,perc_2,perc_3]\n",
    "    colors = ['gold', 'yellowgreen', 'lightcoral']\n",
    "    explode = (0.1, 0, 0) \n",
    "    plt.pie(sizes, explode=explode, labels=labels, colors=colors,autopct='%1.1f%%', shadow=True, startangle=140)\n",
    "    plt.axis('equal')\n",
    "    plt.show()\n",
    "\n",
    "\n",
    "plot_pie_chart(\"Percentages of each class in test set\",np.sum(y_test==1),np.sum(y_test==2),np.sum(y_test==3))\n",
    "plot_pie_chart(\"Percentages of each class in the predictions of the test set\",np.sum(pred_test==1),np.sum(pred_test==2),np.sum(pred_test==3))\n",
    "\n"
   ]
  },
  {
   "cell_type": "code",
   "execution_count": 263,
   "metadata": {},
   "outputs": [
    {
     "name": "stdout",
     "output_type": "stream",
     "text": [
      "Accuracy of training set  1 = 94.7080291970803 %\n",
      "Accuracy of testing set  1 = 94.20289855072464 %\n",
      "Accuracy of training set  2 = 94.89981785063752 %\n",
      "Accuracy of testing set  2 = 93.43065693430657 %\n",
      "Accuracy of training set  3 = 93.0783242258652 %\n",
      "Accuracy of testing set  3 = 91.97080291970804 %\n",
      "Accuracy of training set  4 = 93.0783242258652 %\n",
      "Accuracy of testing set  4 = 86.86131386861314 %\n",
      "Accuracy of training set  5 = 94.53551912568307 %\n",
      "Accuracy of testing set  5 = 91.97080291970804 %\n",
      "Average of training accuracy is  94.06000292502627 %\n",
      "Average of testing accuracy is  91.68729503861208 %\n",
      "average weights list  [[-0.50112082  0.09047265  0.00717211  0.42451112  0.00651231 -0.01054597\n",
      "   0.05826617  0.86729346 -0.00839942 -0.46611793 -2.54990776 -0.87635544\n",
      "  -1.74058996  0.26572486  0.47954555  0.29657332  2.2390691   1.38481951\n",
      "   0.19313634 -0.51608051 -0.38817891  0.21000226 -0.67069558 -0.49950877\n",
      "  -0.5463638   1.8128378   1.31545661  0.05403085 -1.96687794 -1.3051553\n",
      "  -0.40682379 -0.17396124  1.38481951  1.77809273 -2.27921355 -0.21662893\n",
      "  -0.28449189 -0.2184408  -0.28268002 -0.06686334 -0.43425748 -0.15634924\n",
      "  -0.34477158 -0.55515167  0.05403085]\n",
      " [ 0.20607773 -0.04413456  0.05937505 -0.60990585 -0.02439296  0.0285915\n",
      "  -0.04361757 -0.96409135 -0.01222211  0.25850649  2.18595878  0.82040671\n",
      "   1.95325216 -0.04996528 -0.42172253 -0.62397736 -2.11173176 -1.54614299\n",
      "  -0.21339709 -0.13539607  1.09605595 -0.54118506  0.85502482  0.59988207\n",
      "   0.62563997 -1.73743812 -1.67540311 -0.09953593  1.63790803  1.13724374\n",
      "   0.8246143  -0.20963732 -1.54614299  1.18730524 -0.98122751  0.61351936\n",
      "  -0.40744163  0.23520485 -0.02912712 -0.04062653  0.24670426  0.37665808\n",
      "  -0.17058035  0.30561366 -0.09953593]\n",
      " [ 0.29504309 -0.04633809 -0.06654716  0.18539473  0.01788065 -0.01804553\n",
      "  -0.0146486   0.09679789  0.02062153  0.20761144  0.36394899  0.05594873\n",
      "  -0.2126622  -0.21575958 -0.05782303  0.32740404 -0.12733734  0.16132348\n",
      "   0.02026075  0.65147658 -0.70787704  0.3311828  -0.18432924 -0.1003733\n",
      "  -0.07927617 -0.07539969  0.3599465   0.04550508  0.32896991  0.16791157\n",
      "  -0.41779052  0.38359856  0.16132348 -2.96539797  3.26044106 -0.39689043\n",
      "   0.69193352 -0.01676405  0.31180714  0.10748987  0.18755322 -0.22030883\n",
      "   0.51535192  0.24953801  0.04550508]]\n"
     ]
    }
   ],
   "source": [
    "def cross_validation(data_array,y_index,k_folds,n,alpha):\n",
    "    data_c=data_array\n",
    "    #np.take(data_c,np.random.permutation(data.shape[0]),axis=0,out=data_c)\n",
    "   \n",
    "    x=data_c[:,:y_index]\n",
    "    y=data_c[:,y_index]\n",
    "    y_unique=np.unique(y)\n",
    "    x_batch=np.array_split(x,k_folds,axis=0)\n",
    "    y_batch=np.array_split(y,k_folds,axis=0)\n",
    "\n",
    "    accuracy_test,accuracy_training,weights,losses=[],[],[],[]\n",
    "    for i in range(k_folds):\n",
    "        x_batch_c,y_batch_c=x_batch,y_batch\n",
    "        #print(len(y_batch_c))\n",
    "        x_test=x_batch_c[i]\n",
    "        y_test=y_batch_c[i]\n",
    "        \n",
    "        x_temp=np.delete(x_batch_c, i, 0)\n",
    "        y_temp=np.delete(y_batch_c, i, 0)\n",
    "        \n",
    "        x_train=np.concatenate(x_temp,axis=0)\n",
    "        y_train=np.concatenate(y_temp,axis=0)\n",
    "        #print(x_train.shape)\n",
    "        #print(len(y_train))\n",
    "        \n",
    "        \n",
    "        w,l=MLR_fit(x_train,y_train,n,alpha)\n",
    "        weights.append(w)\n",
    "        losses.append(l)\n",
    "        \n",
    "     \n",
    "        pred_test=predict(x_test,w,y_unique)\n",
    "        pred_train=predict(x_train,w,y_unique) \n",
    "        print(\"Accuracy of training set \",i+1,\"=\", np.mean(pred_train==y_train)*100,\"%\")\n",
    "        print(\"Accuracy of testing set \",i+1,\"=\", np.mean(pred_test==y_test)*100,\"%\")\n",
    "       \n",
    "        accuracy_test.append(np.mean(pred_test==y_test)*100)\n",
    "        accuracy_training.append(np.mean(pred_train==y_train)*100)\n",
    "\n",
    "        \n",
    "    #print(weights)\n",
    "\n",
    "    return (np.mean(accuracy_test)) , (np.mean(accuracy_training)) , (np.mean(weights,axis=0)) , (np.mean(losses,axis=0))\n",
    "\n",
    "acc_test,acc_train,avg_weights,avg_losses=cross_validation(data,45,5,100000,0.0001)\n",
    "print(\"Average of training accuracy is \",acc_train,\"%\")\n",
    "print(\"Average of testing accuracy is \",acc_test,\"%\")\n",
    "print(\"average weights list \",avg_weights)\n",
    "\n",
    "#we can test using these weights\n",
    "\n",
    "\n",
    "    \n",
    "\n",
    "    \n",
    "      "
   ]
  },
  {
   "cell_type": "code",
   "execution_count": 264,
   "metadata": {},
   "outputs": [
    {
     "data": {
      "image/png": "[encoded data removed]",
      "text/plain": [
       "<Figure size 648x504 with 1 Axes>"
      ]
     },
     "metadata": {
      "needs_background": "light"
     },
     "output_type": "display_data"
    }
   ],
   "source": [
    "#----training evaluation------#\n",
    "fig = plt.figure(figsize=(9,7))\n",
    "plt.plot(np.arange(100000), avg_losses[0:100000])\n",
    "plt.title(\"Losses during training phase\")\n",
    "plt.xlabel(\"Number of iterations\")\n",
    "plt.ylabel(\"Losses\")\n",
    "plt.show()\n",
    "\n"
   ]
  }
 ],
 "metadata": {
  "kernelspec": {
   "display_name": "Python 3",
   "language": "python",
   "name": "python3"
  },
  "language_info": {
   "codemirror_mode": {
    "name": "ipython",
    "version": 3
   },
   "file_extension": ".py",
   "mimetype": "text/x-python",
   "name": "python",
   "nbconvert_exporter": "python",
   "pygments_lexer": "ipython3",
   "version": "3.7.4"
  }
 },
 "nbformat": 4,
 "nbformat_minor": 2
}

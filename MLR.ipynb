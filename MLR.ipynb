{
 "cells": [
  {
   "cell_type": "code",
   "execution_count": 1,
   "metadata": {},
   "outputs": [],
   "source": [
    "import numpy as np\n",
    "import matplotlib.pyplot as plt\n",
    "from mpl_toolkits.mplot3d import Axes3D\n",
    "import matplotlib.pyplot as plt\n",
    "\n",
    "import csv\n",
    "import math\n",
    "import collections\n",
    "import pandas as pd\n",
    "\n",
    "from scipy.optimize import minimize\n",
    "import sklearn\n",
    "\n",
    "from sklearn.model_selection import train_test_split\n"
   ]
  },
  {
   "cell_type": "code",
   "execution_count": 2,
   "metadata": {},
   "outputs": [],
   "source": [
    "def softmax(x):\n",
    "    if x.ndim==1:\n",
    "               #print(\"1D data case\")\n",
    "               \n",
    "            return np.exp(x)/ np.sum(np.exp(x))\n",
    "    else:\n",
    "        #print(\"ND data case\")\n",
    "        \n",
    "        #print(\"x dim\",x.shape)\n",
    "        #print(\"x\",x)\n",
    "        #print(\"result\",np.exp(x)/ np.sum(np.exp(x) , axis=1).reshape(-1,1))\n",
    "        return np.exp(x)/ np.sum(np.exp(x) , axis=1).reshape(-1,1)\n",
    "#print(softmax([2, 3, 5, 6]))"
   ]
  },
  {
   "cell_type": "code",
   "execution_count": 3,
   "metadata": {},
   "outputs": [],
   "source": [
    "#this function works when class are mapped to integers starting from class 1\n",
    "def one_hot_encoding(y):\n",
    "    y_unique=list(np.unique(y))\n",
    "     \n",
    "    #print(y_unique)\n",
    "    encoding=np.zeros((len(y),len(y_unique)))\n",
    "    #print(encoding)\n",
    "    \n",
    "    for i in range(len(y)):\n",
    "        encoding[i][int(y[i]-1)]=1\n",
    "    return encoding\n",
    "    \n",
    "    "
   ]
  },
  {
   "cell_type": "code",
   "execution_count": 4,
   "metadata": {},
   "outputs": [],
   "source": [
    "def get_softmax(x,weights,y_unique):\n",
    "        predicts = np.dot(x, weights.T).reshape(-1,len(y_unique))\n",
    "        \n",
    "        return softmax(predicts)\n"
   ]
  },
  {
   "cell_type": "code",
   "execution_count": 5,
   "metadata": {},
   "outputs": [],
   "source": [
    "#this function works when class are mapped to integers starting from class 1\n",
    "\n",
    "def predict(x,weights,y_unique):\n",
    "    probs = get_softmax(x,weights,y_unique)\n",
    "    \n",
    "    #print(probs)\n",
    "    \n",
    "    #print(np.argmax(probs, axis=1)+1)\n",
    "    #print(np.sum(probs_, axis = 1)) =1 softmax probability space\n",
    "  \n",
    "    \n",
    "    return np.argmax(probs, axis=1)+1\n",
    "  "
   ]
  },
  {
   "cell_type": "code",
   "execution_count": 6,
   "metadata": {},
   "outputs": [],
   "source": [
    "def cross_entropy(probs,y):\n",
    "        \n",
    "        return -1 * (np.mean( np.log(probs)*y))"
   ]
  },
  {
   "cell_type": "code",
   "execution_count": 7,
   "metadata": {},
   "outputs": [],
   "source": [
    "def MLR_fit(x,y,n,alpha):\n",
    "    y_unique=np.unique(y)\n",
    " \n",
    "\n",
    "    #print(\"weghts in train \",weights)\n",
    "    encoding=one_hot_encoding(y)\n",
    "    \n",
    "    \n",
    "    #print(\"encoding shape \" , encoding.shape)\n",
    "    losses=[]\n",
    "    weights=np.zeros((len(y_unique),x.shape[1]))\n",
    "\n",
    "    for i in range(n):\n",
    "            losses.append(cross_entropy(get_softmax(x,weights,y_unique),encoding ))\n",
    "            z = np.random.choice(x.shape[0],65)\n",
    "            X_gp= x[z]\n",
    "            y_gp= encoding[z]\n",
    "            error = y_gp - get_softmax(X_gp,weights,y_unique)\n",
    "            new_weights = np.dot(error.T, X_gp)*alpha\n",
    "            weights += new_weights\n",
    "            \n",
    "            #print(\"iterations\", i)\n",
    "            #print(\"weights are\", weights)\n",
    "            #print(\"weghits shape\", weights.shape)\n",
    "    return weights\n",
    "        \n",
    "    \n",
    "    \n",
    "    \n",
    "    \n",
    "    "
   ]
  },
  {
   "cell_type": "code",
   "execution_count": 10,
   "metadata": {
    "scrolled": true
   },
   "outputs": [
    {
     "name": "stdout",
     "output_type": "stream",
     "text": [
      "(686, 45)\n",
      "(686,)\n",
      "(138,)\n"
     ]
    }
   ],
   "source": [
    "#----------reading data and preprocessing-----------#\n",
    "data = pd.read_csv('data.csv')\n",
    "###-adding bias column-###\n",
    "data.insert(0,'ones',1)\n",
    "###-rename the output-###\n",
    "data.rename(columns={'Label to be entered by an exper physician Yes/NO':'output',\n",
    "                          }, \n",
    "                 inplace=True)\n",
    "###-map classes to integer-###\n",
    "data[\"output\"].replace({\"YES\":1, \"NO\":2 ,\"MDT\":3}, inplace=True)\n",
    "\n",
    "data = np.array(data)\n",
    "#np.take(data,np.random.permutation(data.shape[0]),axis=0,out=data)\n",
    "x=data[:,:45]\n",
    "y=data[:,45]\n",
    "print(x.shape)\n",
    "print(y.shape)\n",
    "y_unique=np.unique(y)\n",
    "X_train, X_test, y_train, y_test = train_test_split(x, y, test_size=0.2,shuffle=True)\n",
    "print(y_test.shape)\n",
    "\n",
    "\n"
   ]
  },
  {
   "cell_type": "code",
   "execution_count": 11,
   "metadata": {
    "scrolled": true
   },
   "outputs": [
    {
     "name": "stdout",
     "output_type": "stream",
     "text": [
      "Accuracy of training set =  92.88321167883211 %\n",
      "Accuracy of testing set =  88.40579710144928 %\n"
     ]
    }
   ],
   "source": [
    "#------------training and results------------#\n",
    "n=10000 #number of iterations\n",
    "alpha=0.0001  #learning rate\n",
    "w=MLR_fit(X_train,y_train,n,alpha)\n",
    "pred_train=predict(X_train,w,y_unique)\n",
    "pred_test=predict(X_test,w,y_unique)\n",
    "print(\"Accuracy of training set = \", np.mean(pred_train==y_train)*100 ,\"%\")\n",
    "print(\"Accuracy of testing set = \", np.mean(pred_test==y_test)*100,\"%\")"
   ]
  },
  {
   "cell_type": "code",
   "execution_count": 12,
   "metadata": {},
   "outputs": [
    {
     "name": "stdout",
     "output_type": "stream",
     "text": [
      "Counter({1.0: 85, 2.0: 48, 3.0: 5})\n",
      "Counter({1: 92, 2: 41, 3: 5})\n"
     ]
    },
    {
     "data": {
      "image/png": "[encoded data removed]",
      "text/plain": [
       "<Figure size 432x288 with 1 Axes>"
      ]
     },
     "metadata": {},
     "output_type": "display_data"
    },
    {
     "data": {
      "image/png": "[encoded data removed]",
      "text/plain": [
       "<Figure size 432x288 with 1 Axes>"
      ]
     },
     "metadata": {},
     "output_type": "display_data"
    }
   ],
   "source": [
    "#--------------results evaluation on test set--------------#\n",
    "\n",
    "#--count the occurence of every class in y predicted and y_test--#\n",
    "print(collections.Counter(y_test))\n",
    "print(collections.Counter(pred_test))\n",
    "\n",
    "def plot_pie_chart(title,perc_1,perc_2,perc_3):\n",
    "\n",
    "    plt.title(title, fontdict=None, loc='center')\n",
    "    labels = 'YES', 'NO', 'MDT'\n",
    "    sizes = [perc_1,perc_2,perc_3]\n",
    "    colors = ['gold', 'yellowgreen', 'lightcoral']\n",
    "    explode = (0.1, 0, 0) \n",
    "    plt.pie(sizes, explode=explode, labels=labels, colors=colors,autopct='%1.1f%%', shadow=True, startangle=140)\n",
    "    plt.axis('equal')\n",
    "    plt.show()\n",
    "\n",
    "\n",
    "plot_pie_chart(\"Percentages of each class in test set\",np.sum(y_test==1),np.sum(y_test==2),np.sum(y_test==3))\n",
    "plot_pie_chart(\"Percentages of each class in the predictions of the test set\",np.sum(pred_test==1),np.sum(pred_test==2),np.sum(pred_test==3))\n",
    "\n"
   ]
  },
  {
   "cell_type": "code",
   "execution_count": 14,
   "metadata": {},
   "outputs": [
    {
     "name": "stdout",
     "output_type": "stream",
     "text": [
      "Average of training accuracy is  84.51457859678513 %\n",
      "Average of testing accuracy is  83.23072040622026 %\n",
      "average weights list  [[-2.16276894e-01  1.04325768e-02 -1.71415267e-01  6.40458106e-01\n",
      "  -5.20480156e-03  4.56170741e-02  8.86189244e-02  1.12885796e+00\n",
      "  -5.92994022e-02 -8.93567820e-01 -3.23788906e+00 -5.34121541e-01\n",
      "  -1.40219053e+00 -1.43199073e-01  1.51966268e-01  2.13811594e-01\n",
      "   1.72776167e+00  3.00758378e+00  1.35264334e-01 -2.09129183e-01\n",
      "   2.47070161e-02 -1.67119061e-01 -8.88256015e-01 -5.38648201e-01\n",
      "  -2.26335362e-02  1.25853181e+00  1.74640715e+00  8.71003386e-01\n",
      "  -2.64268149e+00 -3.04021369e+00 -5.06802887e-01  3.23155910e-01\n",
      "   3.00758378e+00  1.67259391e+00 -1.88887080e+00  2.47121163e-01\n",
      "  -4.63398056e-01 -7.95163913e-02 -1.36760502e-01 -2.11124773e-01\n",
      "  -5.15212088e-03  4.02874324e-01 -6.19151218e-01 -1.08728028e+00\n",
      "   8.71003386e-01]\n",
      " [-1.91550563e-02 -3.96166810e-02  2.51355329e-01 -8.75935268e-01\n",
      "  -3.23015571e-04  2.86307586e-02 -4.86658377e-02 -1.18062823e+00\n",
      "  -1.39766671e-02  9.15270988e-02  3.15877575e+00  4.97512401e-01\n",
      "   1.54350485e+00  2.25716653e-01 -2.70714522e-01 -4.07672818e-01\n",
      "  -1.66516999e+00 -3.10110739e+00 -1.82477428e-01 -7.21748597e-02\n",
      "   3.41092425e-01 -1.05595194e-01  8.73331981e-01  5.77871488e-01\n",
      "  -7.76866889e-02 -1.41352840e+00 -1.65021062e+00 -9.47243191e-01\n",
      "   2.61831037e+00  2.89408289e+00  6.92650115e-01 -5.04780670e-01\n",
      "  -3.10110739e+00  6.92339302e-01 -7.11494359e-01  3.69862853e-01\n",
      "  -3.89017909e-01  2.47874876e-01 -2.67029932e-01 -1.12967130e-01\n",
      "   9.38120739e-02 -3.56349032e-02  1.64798469e-02  9.28088135e-01\n",
      "  -9.47243191e-01]\n",
      " [ 2.35431950e-01  2.91841042e-02 -7.99400622e-02  2.35477161e-01\n",
      "   5.52781713e-03 -7.42478327e-02 -3.99530867e-02  5.17702745e-02\n",
      "   7.32760693e-02  8.02040721e-01  7.91133013e-02  3.66091401e-02\n",
      "  -1.41314314e-01 -8.25175798e-02  1.18748254e-01  1.93861224e-01\n",
      "  -6.25916860e-02  9.35236096e-02  4.72130943e-02  2.81304043e-01\n",
      "  -3.65799441e-01  2.72714254e-01  1.49240341e-02 -3.92232873e-02\n",
      "   1.00320225e-01  1.54996587e-01 -9.61965337e-02  7.62398049e-02\n",
      "   2.43711194e-02  1.46130808e-01 -1.85847229e-01  1.81624761e-01\n",
      "   9.35236096e-02 -2.36493321e+00  2.60036516e+00 -6.16984016e-01\n",
      "   8.52415966e-01 -1.68358484e-01  4.03790434e-01  3.24091903e-01\n",
      "  -8.86599530e-02 -3.67239421e-01  6.02671371e-01  1.59192145e-01\n",
      "   7.62398049e-02]]\n"
     ]
    }
   ],
   "source": [
    "def cross_validation(data_array,y_index,k_folds,n,alpha):\n",
    "    data_c=data\n",
    "    np.take(data_c,np.random.permutation(data.shape[0]),axis=0,out=data_c)\n",
    "   \n",
    "    x=data_c[:,:y_index]\n",
    "    y=data_c[:,y_index]\n",
    "    y_unique=np.unique(y)\n",
    "    x_batch=np.array_split(x,k_folds,axis=0)\n",
    "    y_batch=np.array_split(y,k_folds,axis=0)\n",
    "\n",
    "    accuracy_test,accuracy_training,weights=[],[],[]\n",
    "    for i in range(k_folds):\n",
    "        x_batch_c,y_batch_c=x_batch,y_batch\n",
    "        #print(len(y_batch_c))\n",
    "        x_test=x_batch_c[i]\n",
    "        y_test=y_batch_c[i]\n",
    "        \n",
    "        x_temp=np.delete(x_batch_c, i, 0)\n",
    "        y_temp=np.delete(y_batch_c, i, 0)\n",
    "        \n",
    "        x_train=np.concatenate(x_temp,axis=0)\n",
    "        y_train=np.concatenate(y_temp,axis=0)\n",
    "        #print(x_train.shape)\n",
    "        #print(len(y_train))\n",
    "        \n",
    "        \n",
    "        w=MLR_fit(x_train,y_train,n,alpha)\n",
    "        weights.append(w)\n",
    "        #print(w)\n",
    "        pred_test=predict(x_test,w,y_unique)\n",
    "        pred_train=predict(x_train,w,y_unique)\n",
    "        #print(\"Accuracy of testing set \",i+1,\"=\", np.mean(pred_test==y_test)*100,\"%\")\n",
    "        #print(\"Accuracy of training set \",i+1,\"=\", np.mean(pred_train==y_train)*100,\"%\")\n",
    "        accuracy_test.append(np.mean(pred_test==y_test)*100)\n",
    "        accuracy_training.append(np.mean(pred_train==y_train)*100)\n",
    "\n",
    "        \n",
    "    \n",
    "    return (np.mean(accuracy_test)) , (np.mean(accuracy_training)) , (np.mean(weights,axis=0))\n",
    "\n",
    "acc_test,acc_train,avg_weights=cross_validation(data,45,5,10000,0.0001)\n",
    "print(\"Average of training accuracy is \",acc_train,\"%\")\n",
    "print(\"Average of testing accuracy is \",acc_test,\"%\")\n",
    "print(\"average weights list \",avg_weights)\n",
    "\n",
    "#we can test using these weights\n",
    "\n",
    "\n",
    "    \n",
    "\n",
    "    \n",
    "      "
   ]
  }
 ],
 "metadata": {
  "kernelspec": {
   "display_name": "Python 3",
   "language": "python",
   "name": "python3"
  },
  "language_info": {
   "codemirror_mode": {
    "name": "ipython",
    "version": 3
   },
   "file_extension": ".py",
   "mimetype": "text/x-python",
   "name": "python",
   "nbconvert_exporter": "python",
   "pygments_lexer": "ipython3",
   "version": "3.7.4"
  }
 },
 "nbformat": 4,
 "nbformat_minor": 2
}
